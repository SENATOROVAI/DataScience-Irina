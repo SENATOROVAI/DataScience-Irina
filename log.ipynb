{
 "cells": [
  {
   "cell_type": "code",
   "execution_count": 1,
   "metadata": {},
   "outputs": [
    {
     "data": {
      "text/plain": [
       "'This module for logging lesson.'"
      ]
     },
     "execution_count": 1,
     "metadata": {},
     "output_type": "execute_result"
    }
   ],
   "source": [
    "\"\"\"This module for logging lesson.\"\"\""
   ]
  },
  {
   "cell_type": "markdown",
   "metadata": {},
   "source": [
    "date 2024/06/05\n",
    "1. documentation style - google preferable than numpy\n",
    "2. better to write type when you define(set) the variable (переменная)\n",
    "3. some useful linters and extensions for coding\n",
    "4. how to get hw and send back for check up\n",
    "5. how to deal with stash - conflict between changes at the same file\n",
    "6. settings - wrap 79"
   ]
  },
  {
   "cell_type": "markdown",
   "metadata": {},
   "source": [
    "date 2024/06/06\n",
    "1. backlog for data analyst needs to be full\n",
    "2. how to find conflicts in code using terminal using commands in terminal pre-commit run --all-files, git status, git add .\n",
    "3. the importance of static typification\n",
    "4. how to accept current stash"
   ]
  },
  {
   "cell_type": "markdown",
   "metadata": {},
   "source": [
    "date 2024/08/22\n",
    "1. probability theory\n",
    "2. Probability defines the likelihood of occurrence of an event.\n",
    "3. The probability of an event is a number indicating how likely that event will occur. This number is always between 0 and 1, where 0 indicates impossibility and 1 indicates certainty.\n",
    "4. For an unfair or weighted coin, the two outcomes are not equally likely. Coin or die need to be balanced and geometrically correct chape.\n",
    "5. Equally Likely Events: Events that have the same chances or probability of occurring are called equally likely events. The outcome of one event is independent of the other. For example, when we toss a coin, there are equal chances of getting a head or a tail.\n",
    "6. Mutually Exclusive Events: Events that cannot happen simultaneously are called mutually exclusive events. For example, the climate can be either hot or cold. We cannot experience the same weather simultaneously.\n",
    "7. The formula for calculating the probability of two mutually exclusive events is given below:\n",
    "P(A or B) =  P(A) + P(B)\n",
    "\n"
   ]
  },
  {
   "cell_type": "markdown",
   "metadata": {},
   "source": []
  }
 ],
 "metadata": {
  "kernelspec": {
   "display_name": "Python 3",
   "language": "python",
   "name": "python3"
  },
  "language_info": {
   "codemirror_mode": {
    "name": "ipython",
    "version": 3
   },
   "file_extension": ".py",
   "mimetype": "text/x-python",
   "name": "python",
   "nbconvert_exporter": "python",
   "pygments_lexer": "ipython3",
   "version": "3.12.3"
  }
 },
 "nbformat": 4,
 "nbformat_minor": 2
}
